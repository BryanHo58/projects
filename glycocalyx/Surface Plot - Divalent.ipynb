{
 "cells": [
  {
   "cell_type": "markdown",
   "metadata": {},
   "source": [
    "# Variation of Divalent Constants"
   ]
  },
  {
   "cell_type": "code",
   "execution_count": null,
   "metadata": {},
   "outputs": [],
   "source": [
    "import numpy as np\n",
    "from mpl_toolkits import mplot3d\n",
    "from scipy.optimize import fsolve\n",
    "from scipy.integrate import solve_bvp\n",
    "import matplotlib.pyplot as plt\n",
    "from matplotlib import cm\n",
    "from matplotlib.ticker import MultipleLocator\n",
    "%matplotlib inline\n",
    "\n",
    "plt.rc('font',size=17)\n",
    "plt.rc('axes',labelsize=17)"
   ]
  },
  {
   "cell_type": "markdown",
   "metadata": {},
   "source": [
    "## 1. Constant S"
   ]
  },
  {
   "cell_type": "code",
   "execution_count": null,
   "metadata": {
    "scrolled": true
   },
   "outputs": [],
   "source": [
    "# cations are diavalent\n",
    "# variables involved\n",
    "S = 0.1 # constant = ca/cg\n",
    "c_g = 0.1 # concentration of anions in gel (C_jo)\n",
    "p1 = np.logspace(-2, 2, 20)\n",
    "p2 = np.logspace(-2, 2, 20)\n",
    "\n",
    "def phi(S, P1, P2):\n",
    "    c_a0 = S*c_g # concentration of anion in salt\n",
    "    c_c0 = c_a0/2 # concentration of cation in salt\n",
    "    def alpha(S, P1, P2, y):\n",
    "        return 2*c_c0*np.exp(-y)*P1*P2\n",
    "    def beta(S, P1, P2, y):\n",
    "        return 1 + c_c0*np.exp(-y)*P1\n",
    "    def free(y):\n",
    "        return c_a0*(-np.exp(y)+np.exp(-2*y))\n",
    "    def gel(y):\n",
    "        a = alpha(S, P1, P2, y)\n",
    "        b = beta(S, P1, P2, y)\n",
    "        return (-free(y) + (-b + (b**2 + 4*c_g*a)**(0.5))/(2*a))/c_g\n",
    "    return fsolve(gel,-1)[0]\n",
    " \n",
    "P1, P2 = np.meshgrid(p1, p2)\n",
    "PHI_ = np.array([phi(S, P1_, P2_) for P1_, P2_ in zip(np.ravel(P1), np.ravel(P2))])\n",
    "PHI = PHI_.reshape(P1.shape)\n",
    "\n",
    "fig = plt.figure(figsize=(16, 9), dpi=500)\n",
    "ax = fig.add_subplot(111, projection = '3d', title=\"Variation of P1 and P2 at Constant S = 0.1\\n\")\n",
    "ax.plot_surface(np.log10(P1), np.log10(P2), PHI, cmap=cm.jet, alpha = 0.75)\n",
    "ax.set_xlabel('\\n\\nlog10 of P1')\n",
    "ax.set_ylabel('\\n\\nlog10 of P2')\n",
    "ax.set_zlabel('\\n\\nDonnan Potential, y')\n",
    "for t in ax.xaxis.get_major_ticks(): t.label.set_fontsize(15)\n",
    "for t in ax.yaxis.get_major_ticks(): t.label.set_fontsize(15)\n",
    "for t in ax.zaxis.get_major_ticks(): t.label.set_fontsize(15)\n",
    "ax.invert_xaxis()\n",
    "\n",
    "\n",
    "ax.view_init(azim=-45)\n",
    "ax.zaxis.set_major_locator(MultipleLocator(0.25))\n",
    "\n",
    "contours = ax.contour(np.log10(P1), np.log10(P2), PHI, zdir='z', offset=np.min(PHI), cmap=cm.jet)\n",
    "ax.clabel(contours, inline = True)\n",
    "\n",
    "plt.show()\n",
    "plt.savefig('constant s.jpg')\n",
    "\n",
    "#\\u03C6"
   ]
  },
  {
   "cell_type": "markdown",
   "metadata": {},
   "source": [
    "## 2. Constant P1"
   ]
  },
  {
   "cell_type": "code",
   "execution_count": null,
   "metadata": {},
   "outputs": [],
   "source": [
    "# variables involved\n",
    "s = np.logspace(-1, 3, 20) # constant = ca/cg\n",
    "c_g = 0.1 # concentration of anions in gel (C_jo)\n",
    "P1 = 0.1\n",
    "p2 = np.logspace(-1, 3, 20)\n",
    "\n",
    "S, P2 = np.meshgrid(s, p2)\n",
    "PHI_ = np.array([phi(S_, P1, P2_) for S_, P2_ in zip(np.ravel(S), np.ravel(P2))])\n",
    "PHI = PHI_.reshape(P2.shape)\n",
    "\n",
    "fig = plt.figure(figsize=(16, 9))\n",
    "ax = fig.add_subplot(111, projection = '3d', title=\"Variation of S and P2 at Constant P1 = 0.1\\n\")\n",
    "ax.plot_surface(np.log10(S), np.log10(P2), PHI, cmap=cm.jet, alpha = 0.75)\n",
    "ax.set_xlabel('\\n\\nlog10 of S')\n",
    "ax.set_ylabel('\\n\\nlog10 of P2')\n",
    "ax.set_zlabel('\\n\\nDonnan Potential, y')\n",
    "for t in ax.xaxis.get_major_ticks(): t.label.set_fontsize(15)\n",
    "for t in ax.yaxis.get_major_ticks(): t.label.set_fontsize(15)\n",
    "for t in ax.zaxis.get_major_ticks(): t.label.set_fontsize(15)\n",
    "ax.invert_xaxis()\n",
    "\n",
    "\n",
    "ax.view_init(azim=-45)\n",
    "ax.zaxis.set_major_locator(MultipleLocator(0.25))\n",
    "\n",
    "contours = ax.contour(np.log10(S), np.log10(P2), PHI, zdir='z', offset=np.min(PHI), cmap=cm.jet)\n",
    "ax.clabel(contours, inline = True)\n",
    "\n",
    "plt.show()\n",
    "plt.savefig('constant p1.jpg')"
   ]
  },
  {
   "cell_type": "markdown",
   "metadata": {},
   "source": [
    "## 3. Constant P2"
   ]
  },
  {
   "cell_type": "code",
   "execution_count": null,
   "metadata": {},
   "outputs": [],
   "source": [
    "# variables involved\n",
    "s = np.logspace(-1, 3, 20) # constant = ca/cg\n",
    "c_g = 0.1 # concentration of anions in gel (C_jo)\n",
    "p1 = np.logspace(-1, 3, 20)\n",
    "P2 = 0.1\n",
    "\n",
    "S, P1 = np.meshgrid(s, p1)\n",
    "PHI_ = np.array([phi(S_, P1_, P2) for S_, P1_ in zip(np.ravel(S), np.ravel(P1))])\n",
    "PHI = PHI_.reshape(P1.shape)\n",
    "\n",
    "fig = plt.figure(figsize=(16, 9))\n",
    "ax = fig.add_subplot(111, projection = '3d', title=\"Variation of S and P1 at Constant P2 = 0.1\\n\")\n",
    "ax.plot_surface(np.log10(S), np.log10(P1), PHI, cmap=cm.jet, alpha = 0.75)\n",
    "ax.set_xlabel('\\n\\nlog10 of S')\n",
    "ax.set_ylabel('\\n\\nlog10 of P1')\n",
    "ax.set_zlabel('\\n\\nDonnan Potential, y')\n",
    "for t in ax.xaxis.get_major_ticks(): t.label.set_fontsize(15)\n",
    "for t in ax.yaxis.get_major_ticks(): t.label.set_fontsize(15)\n",
    "for t in ax.zaxis.get_major_ticks(): t.label.set_fontsize(15)\n",
    "ax.invert_xaxis()\n",
    "\n",
    "\n",
    "ax.view_init(azim=-45)\n",
    "ax.zaxis.set_major_locator(MultipleLocator(0.25))\n",
    "\n",
    "contours = ax.contour(np.log10(S), np.log10(P1), PHI, zdir='z', offset=np.min(PHI), cmap=cm.jet)\n",
    "ax.clabel(contours, inline = True)\n",
    "\n",
    "plt.show()\n",
    "plt.savefig('constant p2.jpg')"
   ]
  }
 ],
 "metadata": {
  "kernelspec": {
   "display_name": "Python 3",
   "language": "python",
   "name": "python3"
  },
  "language_info": {
   "codemirror_mode": {
    "name": "ipython",
    "version": 3
   },
   "file_extension": ".py",
   "mimetype": "text/x-python",
   "name": "python",
   "nbconvert_exporter": "python",
   "pygments_lexer": "ipython3",
   "version": "3.7.1"
  }
 },
 "nbformat": 4,
 "nbformat_minor": 2
}
