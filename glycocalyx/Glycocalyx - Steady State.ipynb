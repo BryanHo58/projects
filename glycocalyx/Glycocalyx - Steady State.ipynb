{
 "cells": [
  {
   "cell_type": "markdown",
   "metadata": {},
   "source": [
    "# Glycocalyx - Salt Interface Simulation\n",
    "\n",
    "\n",
    "## 1. Steady State Equations\n",
    "\n",
    "### 1.1 Salt Layer\n",
    "\n",
    "The equation for the gel layer is a non-linear 2nd order ordinary differential equation.\n",
    "\n",
    "$$ \\frac{d^2\\phi_D(x)}{dx^2} = \\frac{c_{i,o}}{c_{j,o}} \\left( e^{\\phi_D(x)}-e^{-\\phi_D(x)} \\right) $$\n",
    "\n",
    "\n",
    "### 1.2 Gel Layer\n",
    "\n",
    "The equation for the gel layer is a non-linear 2nd order ordinary differential equation.\n",
    "\n",
    "$$ \\frac{d^2\\phi_D(x)}{dx^2} = \\frac{c_{i,o}}{c_{j,o}} \\left( e^{\\phi_D(x)}-e^{-\\phi_D(x)} \\right) + \\left[ 1+ \\frac{c_{i,o}}{K_{ij}}e^{-\\phi_D(x)} \\right]^{-1} $$\n",
    "\n",
    "With boundary conditions of:\n",
    "$$ \\phi_D(0) = \\phi_s(0) $$\n",
    "\n",
    "$$ \\frac{d^2\\phi_D(x)}{dx^2}(x \\rightarrow \\infty) = 0 $$\n",
    "\n",
    "For the purpose of making the code readable, I am substituting the names of the variables such that this equation becomes:\n",
    "\n",
    "$$ y'' = S \\left( e^{y}-e^{-y} \\right) + \\left[ 1+ P \\cdot e^{-y} \\right]^{-1} $$\n",
    "\n",
    "And using the definition of the hyperbolic sine, this becomes further simplified to:\n",
    "\n",
    "$$ y'' =  S \\cdot 2\\sinh y + \\left[ 1+ P \\cdot e^{-y} \\right]^{-1} $$\n",
    "\n",
    "And finally, to be able to use the scipy boundary value problem (bvp) solver, this equation must be re-written as a system of two 1st order ordinary differential equations.\n",
    "\n",
    "$$ z = y' $$\n",
    "\n",
    "$$ z' = y'' = S \\cdot 2\\sinh y + \\left[ 1+ P \\cdot e^{-y} \\right]^{-1} $$\n",
    "\n"
   ]
  },
  {
   "cell_type": "markdown",
   "metadata": {},
   "source": [
    "## 2. Steady State Simulation\n",
    "### 2.1 'Jump' Conditions\n",
    "Determine the value at $y(x \\rightarrow \\infty)$ using function solver"
   ]
  },
  {
   "cell_type": "code",
   "execution_count": null,
   "metadata": {},
   "outputs": [],
   "source": [
    "# --------------------------\n",
    "# import libraries\n",
    "# --------------------------\n",
    "import numpy as np\n",
    "from scipy.integrate import solve_bvp\n",
    "from scipy.optimize import fsolve\n",
    "import matplotlib.pyplot as plt\n",
    "%matplotlib inline\n",
    "\n",
    "# --------------------------\n",
    "# define and determine constants\n",
    "# --------------------------\n",
    "# initialize constants selected to match the Matlab code\n",
    "S = 0.1 # screening (c_i,o / c_j,o)\n",
    "P = 0.1 # pairing   (c_i,o / K_ij)\n",
    "\n",
    "# calculate y(x->inf) assuming y''(x->inf)=0\n",
    "def gel(y):\n",
    "    return S*(np.exp(y)-np.exp(-y)) + (1+P*np.exp(-y))**-1\n",
    "y_inf = fsolve(gel,-2)[0]\n",
    "print(y_inf)"
   ]
  },
  {
   "cell_type": "markdown",
   "metadata": {},
   "source": [
    "### 2.2 Optimization of Intercept\n",
    "Run code to find intercept such that the slopes of the salt layer and gel layer are matched."
   ]
  },
  {
   "cell_type": "code",
   "execution_count": null,
   "metadata": {},
   "outputs": [],
   "source": [
    "# --------------------------\n",
    "# Loop through potential intercepts\n",
    "# and optimize for minimum difference in slope at interface\n",
    "# --------------------------\n",
    "min_d_slope = 100 # minimum difference in slope\n",
    "min_intercept = 0 # intercept associated with min_d_slope\n",
    "dx= 0.05\n",
    "testrange = np.arange(-10, 10 + dx, dx)\n",
    "for y0 in np.arange(0, y_inf, -0.001):\n",
    "    # SALT LAYER\n",
    "    # --------------------------\n",
    "    def fun_s(x, y):\n",
    "        z  = y[1]\n",
    "        dz = S*2*np.sinh(y[0])\n",
    "        return np.vstack((z, dz))\n",
    "\n",
    "    def bc_s(ya, yb):\n",
    "        return np.array([ya[0]-y0, yb[0]])\n",
    "\n",
    "    xs = np.arange(0, 10+dx, dx)\n",
    "    ys = -np.ones((2, xs.size))\n",
    "    res = solve_bvp(fun_s, bc_s, xs, ys)\n",
    "    ys = res.sol(xs)[0]\n",
    "    slope_salt = (ys[1]-ys[0]) / (xs[1]-xs[0])\n",
    "    \n",
    "    # GEL LAYER\n",
    "    # --------------------------\n",
    "    def fun(x, y):\n",
    "        z  = y[1]\n",
    "        dz = S*2*np.sinh(y[0]) + (1+P*np.exp(-y[0]))**(-1)\n",
    "        return np.vstack((z, dz))\n",
    "\n",
    "    def bc(ya, yb):\n",
    "        return np.array([ya[0]-y_inf, yb[0]-y0])\n",
    "\n",
    "    x = np.arange(-10, 0+dx, dx)\n",
    "    y = -np.ones((2, x.size))\n",
    "    res = solve_bvp(fun, bc, x, y)\n",
    "    y = res.sol(x)[0]\n",
    "    slope_gel = (y[-1]-y[-2]) / (x[-1]-x[-2])\n",
    "    \n",
    "    # OPTIMIZATION\n",
    "    # --------------------------\n",
    "    d_slope = abs(slope_salt-slope_gel)\n",
    "    if d_slope <= min_d_slope:\n",
    "        min_d_slope = d_slope\n",
    "        min_intercept = y0\n",
    "        \n",
    "        \n",
    "print(min_d_slope, min_intercept)"
   ]
  },
  {
   "cell_type": "markdown",
   "metadata": {},
   "source": [
    "### 2.3 Re-solve and Plot at Optimal Intercept"
   ]
  },
  {
   "cell_type": "code",
   "execution_count": null,
   "metadata": {
    "scrolled": false
   },
   "outputs": [],
   "source": [
    "import numpy as np\n",
    "from scipy.optimize import fsolve\n",
    "from scipy.integrate import solve_bvp\n",
    "import matplotlib.pyplot as plt\n",
    "%matplotlib inline\n",
    "\n",
    "dx = 0.05\n",
    "y0 = min_intercept\n",
    "\n",
    "# SALT LAYER\n",
    "# --------------------------\n",
    "def fun_s(x, y):\n",
    "    z  = y[1]\n",
    "    dz = S*2*np.sinh(y[0])\n",
    "    return np.vstack((z, dz))\n",
    "\n",
    "def bc_s(ya, yb):\n",
    "    return np.array([ya[0]-y0, yb[0]])\n",
    "\n",
    "xs = np.arange(0, 10+dx, dx)\n",
    "ys = -np.ones((2, xs.size))\n",
    "res = solve_bvp(fun_s, bc_s, xs, ys)\n",
    "ys = res.sol(xs)[0]\n",
    "# TANGENT LINE\n",
    "# --------------------------\n",
    "xi = np.linspace(-2, 2, num=2)\n",
    "slope = (ys[1]-ys[0]) / (xs[1]-xs[0])\n",
    "yi = slope*xi+y0\n",
    "\n",
    "\n",
    "# GEL LAYER\n",
    "# -------------------------\n",
    "# Solve the differential equation\n",
    "def fun(x, y):\n",
    "    z  = y[1]\n",
    "    dz = S*2*np.sinh(y[0]) + (1+P*np.exp(-y[0]))**(-1)\n",
    "    return np.vstack((z, dz))\n",
    "\n",
    "def bc(ya, yb):\n",
    "    return np.array([ya[0]-y_inf, yb[0]-y0])\n",
    "\n",
    "x = np.arange(-10, 0 + dx, dx)\n",
    "y = -np.ones((2, x.size))\n",
    "res = solve_bvp(fun, bc, x, y)\n",
    "y = res.sol(x)[0]\n",
    "\n",
    "# PLOT RESULTS\n",
    "# --------------------------\n",
    "plt.rcParams.update({'font.size': 17})\n",
    "plt.figure(figsize=(16,9), dpi=500)\n",
    "plt.plot(x, y, 'b', label = 'Gel Layer Potential')\n",
    "plt.plot(xs, ys, 'r', label = 'Salt Layer Potential')\n",
    "plt.plot(xi, yi, 'k:', label = 'Slope at the Interface')\n",
    "plt.plot(0, y0, 'ko', ms=4) # marker at intercept\n",
    "plt.plot([x[0], xs[-1]], [y0, y0], 'k:') # marker at intercept\n",
    "plt.plot([x[0], xs[-1]], [y_inf, y_inf], 'k:')\n",
    "\n",
    "plt.title('Glycocalyx Salt Interface Simulation: P='+ str(P) + ', S=' + str(S))\n",
    "plt.xlabel('Dimensionless Distance from Interface')\n",
    "plt.ylabel('Dimensionless Donnan Potential')\n",
    "plt.legend()\n",
    "plt.xlim(x[0], xs[-1])\n",
    "plt.ylim(y[0]*1.1, 0)\n",
    "plt.savefig('steady state.jpg')"
   ]
  },
  {
   "cell_type": "markdown",
   "metadata": {},
   "source": [
    "## 3. Numerical Analysis"
   ]
  },
  {
   "cell_type": "markdown",
   "metadata": {},
   "source": [
    "### 3.1 Measurement of Donnan Potential"
   ]
  },
  {
   "cell_type": "code",
   "execution_count": null,
   "metadata": {},
   "outputs": [],
   "source": [
    "Donnan = np.hstack((np.hstack((y[:-1], (y[-1] + ys[0])*0.5)), ys[1:]))\n",
    "\n",
    "Donnan"
   ]
  },
  {
   "cell_type": "markdown",
   "metadata": {
    "scrolled": true
   },
   "source": [
    "### 3.2 Relevant Graphs of the Donnan Potential"
   ]
  },
  {
   "cell_type": "code",
   "execution_count": null,
   "metadata": {},
   "outputs": [],
   "source": [
    "DonnanPrime = np.gradient(Donnan, dx, edge_order = 2)\n",
    "DonnanDoublePrime = np.gradient(DonnanPrime, dx, edge_order =2)\n",
    "\n",
    "plt.rcParams.update({'font.size': 17})\n",
    "plt.figure(figsize=(16,9), dpi=500)\n",
    "plt.plot(testrange, DonnanDoublePrime, label=r\" $\\partial^2 y / dx^2$ \")\n",
    "plt.plot(testrange, DonnanPrime, label = r\" $\\partial y / dx$ \")\n",
    "plt.plot(testrange, Donnan, label = r\" $y$ \")\n",
    "\n",
    "plt.title('Glycocalyx Salt Interface Simulation: P='+ str(P) + ', S=' + str(S))\n",
    "plt.legend()\n",
    "plt.xlabel('Dimensionless Distance from Interface')\n",
    "plt.ylabel('Dimensionless Numerical Value')\n",
    "plt.xlim(testrange[0], testrange[-1])\n",
    "plt.savefig('steady state derivs.jpg')"
   ]
  },
  {
   "cell_type": "markdown",
   "metadata": {},
   "source": [
    "### 3.3 Ion Concentrations at Steady State"
   ]
  },
  {
   "cell_type": "code",
   "execution_count": null,
   "metadata": {},
   "outputs": [],
   "source": [
    "Cs0 = 10\n",
    "n = np.size(testrange)//2\n",
    "m = np.size(testrange) - n - 1\n",
    "Cc = Cs0*S*np.exp(-Donnan)\n",
    "Ca = Cs0*S*np.exp(Donnan)\n",
    "Cs = Cs0*(1+P*np.exp(-Donnan[:n+1]))**-1\n",
    "Cs = np.hstack((Cs, np.zeros(m)))\n",
    "\n",
    "plt.rcParams.update({'font.size': 17})\n",
    "plt.figure(figsize=(16, 9), dpi=500)\n",
    "\n",
    "plt.plot(testrange, Cs, color='C0', label=\"[s]-\")\n",
    "plt.plot(testrange, Cc, color='C1', label=\"[c]+\")\n",
    "plt.plot(testrange, Ca, color='C2', label=\"[a]-\")\n",
    "plt.xlabel('Dimensionless Distance from Interface')\n",
    "plt.ylabel('Dimensionless Numerical Value')\n",
    "plt.title(\"Final Concentrations of the Steady State\")\n",
    "plt.legend()\n",
    "plt.xlim(testrange[0], testrange[-1])\n",
    "plt.ylim(0, Cs0)\n",
    "plt.savefig('steady state results concentrations.jpg')"
   ]
  },
  {
   "cell_type": "code",
   "execution_count": null,
   "metadata": {},
   "outputs": [],
   "source": []
  }
 ],
 "metadata": {
  "kernelspec": {
   "display_name": "Python 3",
   "language": "python",
   "name": "python3"
  },
  "language_info": {
   "codemirror_mode": {
    "name": "ipython",
    "version": 3
   },
   "file_extension": ".py",
   "mimetype": "text/x-python",
   "name": "python",
   "nbconvert_exporter": "python",
   "pygments_lexer": "ipython3",
   "version": "3.7.1"
  }
 },
 "nbformat": 4,
 "nbformat_minor": 2
}
