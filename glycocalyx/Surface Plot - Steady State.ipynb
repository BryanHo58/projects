{
 "cells": [
  {
   "cell_type": "markdown",
   "metadata": {},
   "source": [
    "# Variation of S and P in Steady State Model"
   ]
  },
  {
   "cell_type": "code",
   "execution_count": null,
   "metadata": {},
   "outputs": [],
   "source": [
    "import numpy as np\n",
    "from mpl_toolkits import mplot3d\n",
    "from scipy.optimize import fsolve\n",
    "from scipy.integrate import solve_bvp\n",
    "import matplotlib.pyplot as plt\n",
    "from matplotlib import cm\n",
    "from matplotlib.ticker import MultipleLocator\n",
    "%matplotlib inline\n",
    "\n",
    "plt.rc('font',size=17)\n",
    "plt.rc('axes',labelsize=17)\n",
    "\n",
    "s = np.logspace(-2, 2, 20)\n",
    "p = np.logspace(-2, 2, 20)\n",
    "def phi(S, P):\n",
    "    def gel(y):\n",
    "        return S*(np.exp(y)-np.exp(-y)) + (1+P*np.exp(-y))**-1\n",
    "    return fsolve(gel,-2)[0]\n",
    " \n",
    "S, P = np.meshgrid(s, p)\n",
    "PHI_ = np.array([phi(S_, P_) for S_, P_ in zip(np.ravel(S), np.ravel(P))])\n",
    "PHI = PHI_.reshape(S.shape)\n",
    "\n",
    "fig = plt.figure(figsize=(16, 9), dpi=500)\n",
    "ax = fig.add_subplot(111, projection = '3d', title=\"Variation of S and P\\n\")\n",
    "ax.plot_surface(np.log10(P), np.log10(S), PHI, cmap=cm.jet, alpha = 0.75)\n",
    "ax.set_xlabel('\\n\\nlog10 of Pairing Constant, P')\n",
    "ax.set_ylabel('\\n\\nlog10 of Screening Constant, S')\n",
    "ax.set_zlabel('\\n\\nDonnan Potential, y')\n",
    "for t in ax.xaxis.get_major_ticks(): t.label.set_fontsize(15)\n",
    "for t in ax.yaxis.get_major_ticks(): t.label.set_fontsize(15)\n",
    "for t in ax.zaxis.get_major_ticks(): t.label.set_fontsize(15)\n",
    "ax.invert_xaxis()\n",
    "\n",
    "\n",
    "ax.view_init(azim=-45)\n",
    "ax.zaxis.set_major_locator(MultipleLocator(0.5))\n",
    "\n",
    "#plt.xticks([0.1, 1])\n",
    "#plt.yticks([0.1, 1])\n",
    "contours = ax.contour(np.log10(P), np.log10(S), PHI, zdir='z', offset=np.min(PHI), cmap=cm.jet)\n",
    "ax.clabel(contours, inline = True)\n",
    "\n",
    "plt.show()\n",
    "plt.savefig('S and P.jpg')\n",
    "\n",
    "#\\u03C6\n",
    "\n",
    "\n",
    "\n",
    "\n",
    "\n",
    "\n",
    "\n"
   ]
  },
  {
   "cell_type": "code",
   "execution_count": null,
   "metadata": {},
   "outputs": [],
   "source": []
  },
  {
   "cell_type": "code",
   "execution_count": null,
   "metadata": {},
   "outputs": [],
   "source": []
  }
 ],
 "metadata": {
  "kernelspec": {
   "display_name": "Python 3",
   "language": "python",
   "name": "python3"
  },
  "language_info": {
   "codemirror_mode": {
    "name": "ipython",
    "version": 3
   },
   "file_extension": ".py",
   "mimetype": "text/x-python",
   "name": "python",
   "nbconvert_exporter": "python",
   "pygments_lexer": "ipython3",
   "version": "3.7.1"
  }
 },
 "nbformat": 4,
 "nbformat_minor": 2
}
